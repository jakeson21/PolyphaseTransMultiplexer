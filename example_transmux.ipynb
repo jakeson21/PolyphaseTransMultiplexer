{
 "cells": [
  {
   "cell_type": "code",
   "execution_count": 1,
   "metadata": {},
   "outputs": [],
   "source": [
    "import numpy as np\n",
    "from scipy import signal\n",
    "import math\n",
    "import abc\n",
    "\n",
    "from ipywidgets import interact, interactive, fixed, interact_manual, interactive_output\n",
    "import ipywidgets as widgets\n",
    "import matplotlib.pyplot as plt\n",
    "import matplotlib.gridspec as gridspec"
   ]
  },
  {
   "cell_type": "code",
   "execution_count": 2,
   "metadata": {},
   "outputs": [],
   "source": [
    "from transmux.wola_processor import WolaProcessor\n",
    "from transmux.utils import gen_real_chirp"
   ]
  },
  {
   "cell_type": "code",
   "execution_count": 35,
   "metadata": {},
   "outputs": [
    {
     "data": {
      "application/vnd.jupyter.widget-view+json": {
       "model_id": "5c023c72e0164738ae0af38fe5338271",
       "version_major": 2,
       "version_minor": 0
      },
      "text/plain": [
       "interactive(children=(FloatSlider(value=0.0, description='0', max=9.0, min=-9.0, step=0.5), FloatSlider(value=…"
      ]
     },
     "metadata": {},
     "output_type": "display_data"
    },
    {
     "data": {
      "text/plain": [
       "<function __main__.f(**kwargs)>"
      ]
     },
     "execution_count": 35,
     "metadata": {},
     "output_type": "execute_result"
    }
   ],
   "source": [
    "# Create WOLA processor\n",
    "fs = 1.0\n",
    "num_channels = int(11)\n",
    "\n",
    "wp = WolaProcessor(fun=None, hop_size=5, block_size=num_channels)\n",
    "data = 5.6*gen_real_chirp(5000)\n",
    "data = 100*np.ones_like(data)\n",
    "samps_per_step = wp.R\n",
    "\n",
    "plt.rcParams.update({'font.size': 7})\n",
    "\n",
    "def f(**kwargs):\n",
    "#     print(kwargs)\n",
    "    def process_func(x: np.ndarray):\n",
    "        f = np.fft.fftfreq(x.size, d=1./x.size)\n",
    "        for c in kwargs:\n",
    "            x[int(c)] *= 10**(kwargs[c]/20/2)\n",
    "        return x\n",
    "\n",
    "    wp.process_func = process_func\n",
    "    y = np.ndarray((0,), dtype=np.complex128)\n",
    "    for n in range(0, int((data.size-wp.N)/samps_per_step)):\n",
    "        inds = np.arange(wp.N) + n*samps_per_step\n",
    "        d = wp.process(data[inds])\n",
    "        y = np.hstack((y, d))\n",
    "        \n",
    "    print((data[100], y[100]))\n",
    "\n",
    "    fig = plt.figure()\n",
    "    gs = gridspec.GridSpec(1, 1)\n",
    "    ax = fig.add_subplot(gs[0, 0])\n",
    "    f, Pxx_spec = signal.welch(data, fs, 'flattop', 64, return_onesided=False, scaling='spectrum')\n",
    "#     Pxx_spec /= np.max(Pxx_spec)\n",
    "    ax.plot(np.fft.fftshift(f), 20*np.log10(np.abs(np.fft.fftshift(Pxx_spec))))\n",
    "    f, Pxx_spec = signal.welch(y, fs, 'flattop', 64, return_onesided=False, scaling='spectrum')\n",
    "#     Pxx_spec /= np.max(Pxx_spec)\n",
    "    ax.plot(np.fft.fftshift(f), 20*np.log10(np.abs(np.fft.fftshift(Pxx_spec))))\n",
    "    ax.set_xlabel('frequency [Hz]')\n",
    "    ax.legend(('Original', 'Recombined'), loc='upper right')\n",
    "    ax.set_title('Output spectrum')\n",
    "    ax.grid(True)\n",
    "#     ax.set_ylim(bottom=-15)\n",
    "#     ax.set_ylim(top=15)\n",
    "\n",
    "ctl_map = dict()\n",
    "for n in range(num_channels):\n",
    "    ctl_map['{}'.format(n)] = widgets.FloatSlider(min=-9,max=9,step=0.5,value=0.0)\n",
    "    \n",
    "interact(f, **ctl_map)\n",
    "#          Pin_dBm=widgets.IntSlider(min=-133,max=-110,step=1,value=-125),\n",
    "#          BW_Hz=widgets.IntSlider(min=50000,max=500000,step=10000,value=200000));"
   ]
  },
  {
   "cell_type": "code",
   "execution_count": null,
   "metadata": {},
   "outputs": [],
   "source": []
  }
 ],
 "metadata": {
  "kernelspec": {
   "display_name": "Python 3",
   "language": "python",
   "name": "python3"
  },
  "language_info": {
   "codemirror_mode": {
    "name": "ipython",
    "version": 3
   },
   "file_extension": ".py",
   "mimetype": "text/x-python",
   "name": "python",
   "nbconvert_exporter": "python",
   "pygments_lexer": "ipython3",
   "version": "3.7.3"
  }
 },
 "nbformat": 4,
 "nbformat_minor": 2
}
